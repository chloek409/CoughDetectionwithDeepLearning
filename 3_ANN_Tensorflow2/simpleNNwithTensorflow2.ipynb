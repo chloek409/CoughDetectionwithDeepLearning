{
  "nbformat": 4,
  "nbformat_minor": 0,
  "metadata": {
    "colab": {
      "name": "simpleNNwithTensorflow2.ipynb",
      "provenance": [],
      "collapsed_sections": [],
      "authorship_tag": "ABX9TyM9XWN1a5viWDNxpDgUqJZX",
      "include_colab_link": true
    },
    "kernelspec": {
      "name": "python3",
      "display_name": "Python 3"
    }
  },
  "cells": [
    {
      "cell_type": "markdown",
      "metadata": {
        "id": "view-in-github",
        "colab_type": "text"
      },
      "source": [
        "<a href=\"https://colab.research.google.com/github/chloek409/CoughDetectionwithDeepLearning/blob/master/simpleNNwithTensorflow2.ipynb\" target=\"_parent\"><img src=\"https://colab.research.google.com/assets/colab-badge.svg\" alt=\"Open In Colab\"/></a>"
      ]
    },
    {
      "cell_type": "code",
      "metadata": {
        "id": "oCMCB19Svd0n"
      },
      "source": [
        "## 덧셈을 실행하는 신경망 ##\n",
        "# 예를들면... input array([[0.1, 0.2], [0.3, 0.2]]) 이면\n",
        "#             ouput array([[0.3], [0,5]]) 이 나오도록\n",
        "\n",
        "# prepare dataset > build (the model) > compile > train > evaluate > make predictions=test\n",
        "\n",
        "import numpy as np\n",
        "from random import random\n",
        "from sklearn.model_selection import train_test_split\n",
        "\n",
        "def generate_dataset(num_samples, test_size):\n",
        "  # create datasets\n",
        "  x=np.array([[random()/2 for _ in range(2)] for _ in range(num_samples)])\n",
        "  \"\"\"random()/2: 0.5 이하의 랜덤값을\n",
        "     for _ in range(2): 2번, 즉 2개 생성하여 배열을 만든다.\n",
        "     for _ in range(2000): 위와 같은 1*2 행렬/배열을 2000개 만든다. \"\"\"\n",
        "  y=np.array([[i[0]+i[1]] for i in x])\n",
        "\n",
        "  # split training & testing data sets\n",
        "  x_train, x_test, y_train, y_test = train_test_split(x,y,test_size=test_size)\n",
        "  \n",
        "  return x_train, x_test, y_train, y_test"
      ],
      "execution_count": null,
      "outputs": []
    },
    {
      "cell_type": "code",
      "metadata": {
        "id": "4dWrhl_K8FlZ"
      },
      "source": [
        "import tensorflow as tf #CPU\n",
        "\n",
        "def simpleNNwithTF2(epochs, input):\n",
        "  # build model\n",
        "  \"\"\"            <inputL> <hiddenL> <outputL>\n",
        "  num of nuerons     2        5         1\n",
        "  \"\"\"\n",
        "  model = tf.keras.Sequential([ # 왼쪽에서 오른쪽으로 가는 신경망이므로 sequential\n",
        "                                # input layer, output layer 정보를 순서대로 구성\n",
        "  tf.keras.layers.Dense(5, input_dim=2, activation=\"sigmoid\"), tf.keras.layers.Dense(1, activation=\"sigmoid\")                        \n",
        "  ])\n",
        "\n",
        "\n",
        "  # compile\n",
        "  optimizer = tf.keras.optimizers.SGD(learning_rate=0.1) #SGD = 경사하강법\n",
        "  model.compile(optimizer=optimizer, loss=\"MSE\") #loss=error function, MSE=mean squared err\n",
        "\n",
        "  # train (인풋과 아웃풋을 같이 넣어 \"덧셈\"을 학습시키는 것)\n",
        "  model.fit(x_train, y_train, epochs=100)\n",
        "\n",
        "  # evaluate\n",
        "  print(\"\\nModel Evaluation:\")\n",
        "  model.evaluate(x_test, y_test, verbose=1) #report를 보고싶을때 verbose=1 설정\n",
        "\n",
        "  # predict\n",
        "  input_data=np.array([[0.123, 0.242], [0.3, 0.2], [0.20001, 0.3333]])\n",
        "  predictions=model.predict(input_data)\n",
        "\n",
        "  print(\"\\nPredictions: \")\n",
        "  for d, p in zip(input_data, predictions):\n",
        "    print(\"{} + {} = {}\".format(d[0], d[1], p[0]))\n",
        "    \n",
        "    #ouput이 ([[0.365], [0,5], ...])로 잘 나오나용?!\n",
        "\n"
      ],
      "execution_count": null,
      "outputs": []
    },
    {
      "cell_type": "code",
      "metadata": {
        "id": "dfcfxJLJClmP"
      },
      "source": [
        "if __name__ == \"__main__\":\n",
        "  x_train, x_test, y_train, y_test = generate_dataset(5000, 0.3) #생성량의 30%는 evaluate 용\n",
        "  simpleNN(?,?,~)\n",
        "\n",
        "  "
      ],
      "execution_count": null,
      "outputs": []
    }
  ]
}
